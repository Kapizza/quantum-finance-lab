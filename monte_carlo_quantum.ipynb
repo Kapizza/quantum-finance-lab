{
 "cells": [
  {
   "cell_type": "code",
   "execution_count": 20,
   "id": "7b5304c1",
   "metadata": {},
   "outputs": [
    {
     "ename": "ImportError",
     "evalue": "cannot import name 'Sampler' from 'qiskit.primitives' (C:\\Users\\misho\\AppData\\Local\\Packages\\PythonSoftwareFoundation.Python.3.11_qbz5n2kfra8p0\\LocalCache\\local-packages\\Python311\\site-packages\\qiskit\\primitives\\__init__.py)",
     "output_type": "error",
     "traceback": [
      "\u001b[31m---------------------------------------------------------------------------\u001b[39m",
      "\u001b[31mImportError\u001b[39m                               Traceback (most recent call last)",
      "\u001b[36mCell\u001b[39m\u001b[36m \u001b[39m\u001b[32mIn[20]\u001b[39m\u001b[32m, line 3\u001b[39m\n\u001b[32m      1\u001b[39m \u001b[38;5;28;01mimport\u001b[39;00m\u001b[38;5;250m \u001b[39m\u001b[34;01mmath\u001b[39;00m\n\u001b[32m      2\u001b[39m \u001b[38;5;28;01mfrom\u001b[39;00m\u001b[38;5;250m \u001b[39m\u001b[34;01mqiskit\u001b[39;00m\u001b[38;5;250m \u001b[39m\u001b[38;5;28;01mimport\u001b[39;00m QuantumCircuit\n\u001b[32m----> \u001b[39m\u001b[32m3\u001b[39m \u001b[38;5;28;01mfrom\u001b[39;00m\u001b[38;5;250m \u001b[39m\u001b[34;01mqiskit\u001b[39;00m\u001b[34;01m.\u001b[39;00m\u001b[34;01mprimitives\u001b[39;00m\u001b[38;5;250m \u001b[39m\u001b[38;5;28;01mimport\u001b[39;00m Sampler\n\u001b[32m      4\u001b[39m \u001b[38;5;28;01mfrom\u001b[39;00m\u001b[38;5;250m \u001b[39m\u001b[34;01mqiskit_algorithms\u001b[39;00m\u001b[38;5;250m \u001b[39m\u001b[38;5;28;01mimport\u001b[39;00m AmplitudeEstimation, EstimationProblem\n\u001b[32m      6\u001b[39m \u001b[38;5;66;03m# Target amplitude\u001b[39;00m\n",
      "\u001b[31mImportError\u001b[39m: cannot import name 'Sampler' from 'qiskit.primitives' (C:\\Users\\misho\\AppData\\Local\\Packages\\PythonSoftwareFoundation.Python.3.11_qbz5n2kfra8p0\\LocalCache\\local-packages\\Python311\\site-packages\\qiskit\\primitives\\__init__.py)"
     ]
    }
   ],
   "source": [
    "import math\n",
    "from qiskit import QuantumCircuit\n",
    "from qiskit.primitives import Sampler\n",
    "from qiskit_algorithms import AmplitudeEstimation, EstimationProblem\n",
    "\n",
    "# Target amplitude\n",
    "a = 0.3\n",
    "theta = 2 * math.asin(math.sqrt(a))\n",
    "\n",
    "# Prepare √(1−a)|0> + √a|1>\n",
    "A = QuantumCircuit(1)\n",
    "A.ry(theta, 0)\n",
    "\n",
    "# Define the estimation problem\n",
    "problem = EstimationProblem(state_preparation=A, objective_qubits=[0])\n",
    "\n",
    "# Use the new Sampler primitive\n",
    "sampler = Sampler()\n",
    "\n",
    "# Run amplitude estimation\n",
    "qae = AmplitudeEstimation(num_eval_qubits=5, sampler=sampler)\n",
    "result = qae.estimate(problem)\n",
    "\n",
    "print(\"Estimated amplitude:\", result.estimation)\n",
    "print(\"True amplitude:\", a)\n"
   ]
  },
  {
   "cell_type": "code",
   "execution_count": null,
   "id": "29b247ba",
   "metadata": {},
   "outputs": [],
   "source": []
  }
 ],
 "metadata": {
  "kernelspec": {
   "display_name": "Python 3",
   "language": "python",
   "name": "python3"
  },
  "language_info": {
   "codemirror_mode": {
    "name": "ipython",
    "version": 3
   },
   "file_extension": ".py",
   "mimetype": "text/x-python",
   "name": "python",
   "nbconvert_exporter": "python",
   "pygments_lexer": "ipython3",
   "version": "3.11.9"
  }
 },
 "nbformat": 4,
 "nbformat_minor": 5
}
