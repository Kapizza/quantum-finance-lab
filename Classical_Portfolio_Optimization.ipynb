{
 "cells": [
  {
   "cell_type": "markdown",
   "id": "2a832476",
   "metadata": {},
   "source": [
    "# Quantum Finance Lab · Notebook 01\n",
    "## Classical Portfolio Optimization (no quantum yet)\n",
    "\n",
    "*Goal*: build intuition for portfolio choice with the **mean–variance** model.\n",
    "*Audience*: readers new to quant finance and quantum computing.\n",
    "*Outcome*: compute baseline allocations, an optimized portfolio, and the efficient frontier.\n",
    "\n",
    "**Roadmap**\n",
    "1. Setup and toy data  \n",
    "2. Turn prices into returns  \n",
    "3. Baselines: equal weight and single-asset extremes  \n",
    "4. Mean–variance optimization (unconstrained, simple math)  \n",
    "5. No-short optional variant (QP)  \n",
    "6. Efficient frontier and plots  \n",
    "7. What these results mean and limits of the model  \n",
    "8. What we will quantize next time\n"
   ]
  },
  {
   "cell_type": "markdown",
   "id": "7e6fce95",
   "metadata": {},
   "source": [
    "# 1) Setup\n",
    "import numpy as np\n",
    "import pandas as pd\n",
    "import matplotlib.pyplot as plt\n",
    "\n",
    "np.set_printoptions(precision=4, suppress=True)\n",
    "plt.rcParams[\"figure.figsize\"] = (6.5, 4.0)\n"
   ]
  },
  {
   "cell_type": "code",
   "execution_count": 1,
   "id": "9a8d006c",
   "metadata": {},
   "outputs": [],
   "source": [
    "import numpy as np\n",
    "import pandas as pd\n",
    "import matplotlib.pyplot as plt\n",
    "\n",
    "np.set_printoptions(precision=4, suppress=True)\n",
    "plt.rcParams[\"figure.figsize\"] = (6.5, 4.0)\n"
   ]
  },
  {
   "cell_type": "markdown",
   "id": "305413b4",
   "metadata": {},
   "source": [
    "## 2) Toy monthly price table (12 months). Rows = time, Cols = assets.\n",
    "\n",
    "* We start with **toy monthly prices** for 4 assets (A, B, C, D).  \n",
    "* Replace these with your own data later.  \n",
    "* Using toy numbers keeps the logic transparent.\n"
   ]
  },
  {
   "cell_type": "code",
   "execution_count": 2,
   "id": "64fececc",
   "metadata": {},
   "outputs": [
    {
     "data": {
      "text/html": [
       "<div>\n",
       "<style scoped>\n",
       "    .dataframe tbody tr th:only-of-type {\n",
       "        vertical-align: middle;\n",
       "    }\n",
       "\n",
       "    .dataframe tbody tr th {\n",
       "        vertical-align: top;\n",
       "    }\n",
       "\n",
       "    .dataframe thead th {\n",
       "        text-align: right;\n",
       "    }\n",
       "</style>\n",
       "<table border=\"1\" class=\"dataframe\">\n",
       "  <thead>\n",
       "    <tr style=\"text-align: right;\">\n",
       "      <th></th>\n",
       "      <th>A</th>\n",
       "      <th>B</th>\n",
       "      <th>C</th>\n",
       "      <th>D</th>\n",
       "    </tr>\n",
       "  </thead>\n",
       "  <tbody>\n",
       "    <tr>\n",
       "      <th>2023-01-31</th>\n",
       "      <td>100</td>\n",
       "      <td>50</td>\n",
       "      <td>80</td>\n",
       "      <td>120</td>\n",
       "    </tr>\n",
       "    <tr>\n",
       "      <th>2023-02-28</th>\n",
       "      <td>102</td>\n",
       "      <td>49</td>\n",
       "      <td>81</td>\n",
       "      <td>121</td>\n",
       "    </tr>\n",
       "    <tr>\n",
       "      <th>2023-03-31</th>\n",
       "      <td>101</td>\n",
       "      <td>50</td>\n",
       "      <td>82</td>\n",
       "      <td>119</td>\n",
       "    </tr>\n",
       "    <tr>\n",
       "      <th>2023-04-30</th>\n",
       "      <td>103</td>\n",
       "      <td>52</td>\n",
       "      <td>82</td>\n",
       "      <td>118</td>\n",
       "    </tr>\n",
       "    <tr>\n",
       "      <th>2023-05-31</th>\n",
       "      <td>105</td>\n",
       "      <td>51</td>\n",
       "      <td>84</td>\n",
       "      <td>120</td>\n",
       "    </tr>\n",
       "  </tbody>\n",
       "</table>\n",
       "</div>"
      ],
      "text/plain": [
       "              A   B   C    D\n",
       "2023-01-31  100  50  80  120\n",
       "2023-02-28  102  49  81  121\n",
       "2023-03-31  101  50  82  119\n",
       "2023-04-30  103  52  82  118\n",
       "2023-05-31  105  51  84  120"
      ]
     },
     "execution_count": 2,
     "metadata": {},
     "output_type": "execute_result"
    }
   ],
   "source": [
    "\n",
    "dates = pd.date_range(\"2023-01-31\", periods=12, freq=\"ME\")\n",
    "prices = pd.DataFrame(\n",
    "    {\n",
    "        \"A\": [100,102,101,103,105,104,106,108,109,111,112,113],\n",
    "        \"B\": [ 50, 49, 50, 52, 51, 53, 55, 56, 57, 58, 60, 61],\n",
    "        \"C\": [ 80, 81, 82, 82, 84, 85, 86, 87, 88, 89, 91, 92],\n",
    "        \"D\": [120,121,119,118,120,122,121,123,124,126,127,129],\n",
    "    },\n",
    "    index=dates\n",
    ")\n",
    "prices.head()\n"
   ]
  },
  {
   "cell_type": "markdown",
   "id": "9832cb55",
   "metadata": {},
   "source": [
    "## 3) From prices to returns\n",
    "\n",
    "* Use **simple returns**: $ r_t = \\frac{P_t}{P_{t-1}} - 1 $.  \n",
    "* Compute sample **mean returns** and **covariance**.  \n",
    "* These are the core inputs for mean–variance.\n"
   ]
  },
  {
   "cell_type": "code",
   "execution_count": 3,
   "id": "ba27c8f7",
   "metadata": {},
   "outputs": [
    {
     "data": {
      "text/plain": [
       "(A    0.011231\n",
       " B    0.018442\n",
       " C    0.012805\n",
       " D    0.006663\n",
       " dtype: float64,\n",
       "           A         B         C         D\n",
       " A  0.000128 -0.000082 -0.000003  0.000025\n",
       " B -0.000082  0.000443 -0.000058 -0.000091\n",
       " C -0.000003 -0.000058  0.000040  0.000030\n",
       " D  0.000025 -0.000091  0.000030  0.000147)"
      ]
     },
     "execution_count": 3,
     "metadata": {},
     "output_type": "execute_result"
    }
   ],
   "source": [
    "returns = prices.pct_change().dropna()\n",
    "mu = returns.mean()               # vector of mean returns\n",
    "Sigma = returns.cov()             # covariance matrix\n",
    "asset_names = list(returns.columns)\n",
    "\n",
    "mu, Sigma\n"
   ]
  },
  {
   "cell_type": "markdown",
   "id": "a05dc688",
   "metadata": {},
   "source": [
    "## 4) Baselines\n",
    "\n",
    "* **Equal weight**: spread capital evenly.  \n",
    "* **All-in single assets**: reference points for risk/return extremes.  \n",
    "* We will compare these to the optimized solution.\n"
   ]
  },
  {
   "cell_type": "code",
   "execution_count": 4,
   "id": "94890c15",
   "metadata": {},
   "outputs": [
    {
     "name": "stdout",
     "output_type": "stream",
     "text": [
      "[0.25 0.25 0.25 0.25]\n"
     ]
    },
    {
     "data": {
      "text/html": [
       "<div>\n",
       "<style scoped>\n",
       "    .dataframe tbody tr th:only-of-type {\n",
       "        vertical-align: middle;\n",
       "    }\n",
       "\n",
       "    .dataframe tbody tr th {\n",
       "        vertical-align: top;\n",
       "    }\n",
       "\n",
       "    .dataframe thead th {\n",
       "        text-align: right;\n",
       "    }\n",
       "</style>\n",
       "<table border=\"1\" class=\"dataframe\">\n",
       "  <thead>\n",
       "    <tr style=\"text-align: right;\">\n",
       "      <th></th>\n",
       "      <th>Portfolio</th>\n",
       "      <th>Weights</th>\n",
       "      <th>ExpReturn</th>\n",
       "      <th>Volatility</th>\n",
       "    </tr>\n",
       "  </thead>\n",
       "  <tbody>\n",
       "    <tr>\n",
       "      <th>0</th>\n",
       "      <td>Equal weight</td>\n",
       "      <td>[0.25, 0.25, 0.25, 0.25]</td>\n",
       "      <td>0.012285</td>\n",
       "      <td>0.004995</td>\n",
       "    </tr>\n",
       "    <tr>\n",
       "      <th>1</th>\n",
       "      <td>100% A</td>\n",
       "      <td>[1.0, 0.0, 0.0, 0.0]</td>\n",
       "      <td>0.011231</td>\n",
       "      <td>0.011304</td>\n",
       "    </tr>\n",
       "    <tr>\n",
       "      <th>2</th>\n",
       "      <td>100% B</td>\n",
       "      <td>[0.0, 1.0, 0.0, 0.0]</td>\n",
       "      <td>0.018442</td>\n",
       "      <td>0.021050</td>\n",
       "    </tr>\n",
       "    <tr>\n",
       "      <th>3</th>\n",
       "      <td>100% C</td>\n",
       "      <td>[0.0, 0.0, 1.0, 0.0]</td>\n",
       "      <td>0.012805</td>\n",
       "      <td>0.006343</td>\n",
       "    </tr>\n",
       "    <tr>\n",
       "      <th>4</th>\n",
       "      <td>100% D</td>\n",
       "      <td>[0.0, 0.0, 0.0, 1.0]</td>\n",
       "      <td>0.006663</td>\n",
       "      <td>0.012114</td>\n",
       "    </tr>\n",
       "  </tbody>\n",
       "</table>\n",
       "</div>"
      ],
      "text/plain": [
       "      Portfolio                   Weights  ExpReturn  Volatility\n",
       "0  Equal weight  [0.25, 0.25, 0.25, 0.25]   0.012285    0.004995\n",
       "1        100% A      [1.0, 0.0, 0.0, 0.0]   0.011231    0.011304\n",
       "2        100% B      [0.0, 1.0, 0.0, 0.0]   0.018442    0.021050\n",
       "3        100% C      [0.0, 0.0, 1.0, 0.0]   0.012805    0.006343\n",
       "4        100% D      [0.0, 0.0, 0.0, 1.0]   0.006663    0.012114"
      ]
     },
     "execution_count": 4,
     "metadata": {},
     "output_type": "execute_result"
    }
   ],
   "source": [
    "def portfolio_stats(weights, mu, Sigma):\n",
    "    \"\"\"Return (exp_return, volatility, variance).\"\"\"\n",
    "    w = np.asarray(weights).reshape(-1, 1)\n",
    "    exp_ret = (w.T @ mu.values.reshape(-1,1)).item()\n",
    "    var = (w.T @ Sigma.values @ w).item()\n",
    "    vol = np.sqrt(var)\n",
    "    return exp_ret, vol, var\n",
    "\n",
    "n = len(asset_names)\n",
    "w_eq = np.ones(n) / n\n",
    "print(w_eq)\n",
    "base = {}\n",
    "base[\"Equal weight\"] = w_eq\n",
    "for i, a in enumerate(asset_names):\n",
    "    w_one = np.zeros(n); w_one[i] = 1.0\n",
    "    base[f\"100% {a}\"] = w_one\n",
    "\n",
    "rows = []\n",
    "for label, w in base.items():\n",
    "    er, vol, _ = portfolio_stats(w, mu, Sigma)\n",
    "    rows.append((label, w, er, vol))\n",
    "\n",
    "baseline_df = pd.DataFrame(rows, columns=[\"Portfolio\",\"Weights\",\"ExpReturn\",\"Volatility\"])\n",
    "baseline_df"
   ]
  },
  {
   "cell_type": "markdown",
   "id": "30cff0b2",
   "metadata": {},
   "source": [
    "## 4. Mean–variance objective (unconstrained, simple math)\n",
    "\n",
    "We minimize **risk minus reward**:\n",
    "$$\n",
    "\\min_w\\; \\tfrac{1}{2} w^\\top \\Sigma w - \\lambda\\, \\mu^\\top w\n",
    "$$\n",
    "Subject to a single **budget** constraint:\n",
    "$$\n",
    "\\mathbf{1}^\\top w = 1\n",
    "$$\n",
    "* $\\lambda > 0$ is a **risk-aversion** knob.  \n",
    "* This closed-form solution allows **shorting** since we did not add nonnegativity.\n",
    "\n",
    "**Closed form** with one equality:\n",
    "$$\n",
    "w^* = \\Sigma^{-1}\\big(\\lambda\\,\\mu + \\gamma\\,\\mathbf{1}\\big),\n",
    "$$\n",
    "where $\\gamma$ is chosen so that $\\mathbf{1}^\\top w^* = 1$.\n"
   ]
  },
  {
   "cell_type": "markdown",
   "id": "74a22c3f",
   "metadata": {},
   "source": []
  },
  {
   "cell_type": "code",
   "execution_count": 5,
   "id": "8000e433",
   "metadata": {},
   "outputs": [
    {
     "data": {
      "text/plain": [
       "(array([ 0.222 ,  0.1668,  0.6202, -0.009 ]), np.float64(0.9999999999999998))"
      ]
     },
     "execution_count": 5,
     "metadata": {},
     "output_type": "execute_result"
    }
   ],
   "source": [
    "# Unconstrained optimizer (allows shorting)\n",
    "def mean_variance_unconstrained(mu, Sigma, risk_aversion=5.0):\n",
    "    \"\"\"\n",
    "    Solve min 0.5 w^T Σ w - λ μ^T w  s.t. 1^T w = 1\n",
    "    Returns optimal weights.\n",
    "    \"\"\"\n",
    "    mu = mu.values.reshape(-1, 1)\n",
    "    ones = np.ones_like(mu)\n",
    "    Sigma_inv = np.linalg.inv(Sigma.values)\n",
    "\n",
    "    lam = float(risk_aversion)\n",
    "    # w = Σ^{-1}(λ μ + γ 1), enforce 1^T w = 1 to find γ\n",
    "    A = ones.T @ Sigma_inv @ ones\n",
    "    B = ones.T @ Sigma_inv @ mu\n",
    "    # 1^T w = 1 → 1^T Σ^{-1}(λ μ + γ 1) = 1 → lam*B + γ*A = 1\n",
    "    gamma = (1 - lam*B.item()) / A.item()\n",
    "    w = Sigma_inv @ (lam*mu + gamma*ones)\n",
    "    return w.ravel()\n",
    "\n",
    "def tangency_weights(mu, Sigma, rf=0.0):\n",
    "    S = Sigma.values\n",
    "    mu_v = mu.values.reshape(-1,1)\n",
    "    ones = np.ones_like(mu_v)\n",
    "    x = np.linalg.solve(S, mu_v - rf * ones)\n",
    "    denom = (ones.T @ x).item()\n",
    "    w = x / denom\n",
    "    return w.ravel()\n",
    "\n",
    "w_star = tangency_weights(mu, Sigma, rf=0.0)\n",
    "w_star, w_star.sum()\n"
   ]
  },
  {
   "cell_type": "markdown",
   "id": "a9ef8df7",
   "metadata": {},
   "source": [
    "## 6) Inspect the optimized portfolio\n",
    "\n",
    "* Check weights, expected return, and volatility.  \n",
    "* Compare against baselines.\n"
   ]
  },
  {
   "cell_type": "code",
   "execution_count": 6,
   "id": "e31c3303",
   "metadata": {},
   "outputs": [
    {
     "data": {
      "text/html": [
       "<div>\n",
       "<style scoped>\n",
       "    .dataframe tbody tr th:only-of-type {\n",
       "        vertical-align: middle;\n",
       "    }\n",
       "\n",
       "    .dataframe tbody tr th {\n",
       "        vertical-align: top;\n",
       "    }\n",
       "\n",
       "    .dataframe thead th {\n",
       "        text-align: right;\n",
       "    }\n",
       "</style>\n",
       "<table border=\"1\" class=\"dataframe\">\n",
       "  <thead>\n",
       "    <tr style=\"text-align: right;\">\n",
       "      <th></th>\n",
       "      <th>Portfolio</th>\n",
       "      <th>Weights</th>\n",
       "      <th>ExpReturn</th>\n",
       "      <th>Volatility</th>\n",
       "    </tr>\n",
       "  </thead>\n",
       "  <tbody>\n",
       "    <tr>\n",
       "      <th>0</th>\n",
       "      <td>Equal weight</td>\n",
       "      <td>[0.25, 0.25, 0.25, 0.25]</td>\n",
       "      <td>0.012285</td>\n",
       "      <td>0.004995</td>\n",
       "    </tr>\n",
       "    <tr>\n",
       "      <th>1</th>\n",
       "      <td>100% A</td>\n",
       "      <td>[1.0, 0.0, 0.0, 0.0]</td>\n",
       "      <td>0.011231</td>\n",
       "      <td>0.011304</td>\n",
       "    </tr>\n",
       "    <tr>\n",
       "      <th>2</th>\n",
       "      <td>100% B</td>\n",
       "      <td>[0.0, 1.0, 0.0, 0.0]</td>\n",
       "      <td>0.018442</td>\n",
       "      <td>0.021050</td>\n",
       "    </tr>\n",
       "    <tr>\n",
       "      <th>3</th>\n",
       "      <td>100% C</td>\n",
       "      <td>[0.0, 0.0, 1.0, 0.0]</td>\n",
       "      <td>0.012805</td>\n",
       "      <td>0.006343</td>\n",
       "    </tr>\n",
       "    <tr>\n",
       "      <th>4</th>\n",
       "      <td>100% D</td>\n",
       "      <td>[0.0, 0.0, 0.0, 1.0]</td>\n",
       "      <td>0.006663</td>\n",
       "      <td>0.012114</td>\n",
       "    </tr>\n",
       "    <tr>\n",
       "      <th>5</th>\n",
       "      <td>Optimized (unconstrained)</td>\n",
       "      <td>[0.22203203571450042, 0.16679227967870422, 0.6...</td>\n",
       "      <td>0.013451</td>\n",
       "      <td>0.003877</td>\n",
       "    </tr>\n",
       "  </tbody>\n",
       "</table>\n",
       "</div>"
      ],
      "text/plain": [
       "                   Portfolio  \\\n",
       "0               Equal weight   \n",
       "1                     100% A   \n",
       "2                     100% B   \n",
       "3                     100% C   \n",
       "4                     100% D   \n",
       "5  Optimized (unconstrained)   \n",
       "\n",
       "                                             Weights  ExpReturn  Volatility  \n",
       "0                           [0.25, 0.25, 0.25, 0.25]   0.012285    0.004995  \n",
       "1                               [1.0, 0.0, 0.0, 0.0]   0.011231    0.011304  \n",
       "2                               [0.0, 1.0, 0.0, 0.0]   0.018442    0.021050  \n",
       "3                               [0.0, 0.0, 1.0, 0.0]   0.012805    0.006343  \n",
       "4                               [0.0, 0.0, 0.0, 1.0]   0.006663    0.012114  \n",
       "5  [0.22203203571450042, 0.16679227967870422, 0.6...   0.013451    0.003877  "
      ]
     },
     "execution_count": 6,
     "metadata": {},
     "output_type": "execute_result"
    }
   ],
   "source": [
    "er_star, vol_star, _ = portfolio_stats(w_star, mu, Sigma)\n",
    "\n",
    "summary = baseline_df.copy()\n",
    "summary.loc[len(summary)] = [\n",
    "    \"Optimized (unconstrained)\",\n",
    "    w_star,\n",
    "    er_star,\n",
    "    vol_star\n",
    "]\n",
    "summary\n"
   ]
  },
  {
   "cell_type": "markdown",
   "id": "89151dcd",
   "metadata": {},
   "source": [
    "## 7) No-short variant (Quadratic Program)\n",
    "\n",
    "* If you want **no shorting**, add $ w \\ge 0 $.  \n",
    "* This becomes a **quadratic program**.  \n",
    "* We can use `cvxpy` for a compact formulation.\n",
    "\n",
    "> If `cvxpy` is not installed, run `pip install cvxpy`.\n"
   ]
  },
  {
   "cell_type": "code",
   "execution_count": 7,
   "id": "a28485d2",
   "metadata": {},
   "outputs": [
    {
     "data": {
      "text/plain": [
       "(array([-0.,  1., -0., -0.]),\n",
       " 0.018441925031008236,\n",
       " np.float64(0.021050203976225975))"
      ]
     },
     "execution_count": 7,
     "metadata": {},
     "output_type": "execute_result"
    }
   ],
   "source": [
    "import cvxpy as cp\n",
    "\n",
    "def mean_variance_noshort(mu, Sigma, risk_aversion=5.0):\n",
    "    mu_v = mu.values\n",
    "    Sigma_m = Sigma.values\n",
    "    n = len(mu_v)\n",
    "    w = cp.Variable(n)\n",
    "    objective = 0.5 * cp.quad_form(w, Sigma_m) - risk_aversion * mu_v @ w\n",
    "    constraints = [cp.sum(w) == 1, w >= 0]\n",
    "    prob = cp.Problem(cp.Minimize(objective), constraints)\n",
    "    prob.solve(solver=cp.OSQP, verbose=False)\n",
    "    return w.value\n",
    "\n",
    "w_ns = mean_variance_noshort(mu, Sigma, risk_aversion=5.0)\n",
    "er_ns, vol_ns, _ = portfolio_stats(w_ns, mu, Sigma)\n",
    "\n",
    "w_ns, er_ns, vol_ns\n"
   ]
  },
  {
   "cell_type": "markdown",
   "id": "10b33513",
   "metadata": {},
   "source": [
    "## 8) Efficient frontier (parametric sweep)\n",
    "\n",
    "* Vary the **risk-aversion** $\\lambda$ to trace the frontier.  \n",
    "* Each point is an optimal portfolio for that $\\lambda$.  \n",
    "* This is for the **unconstrained** case to keep code simple.\n"
   ]
  },
  {
   "cell_type": "code",
   "execution_count": 8,
   "id": "c99bc39d",
   "metadata": {},
   "outputs": [
    {
     "data": {
      "text/html": [
       "<div>\n",
       "<style scoped>\n",
       "    .dataframe tbody tr th:only-of-type {\n",
       "        vertical-align: middle;\n",
       "    }\n",
       "\n",
       "    .dataframe tbody tr th {\n",
       "        vertical-align: top;\n",
       "    }\n",
       "\n",
       "    .dataframe thead th {\n",
       "        text-align: right;\n",
       "    }\n",
       "</style>\n",
       "<table border=\"1\" class=\"dataframe\">\n",
       "  <thead>\n",
       "    <tr style=\"text-align: right;\">\n",
       "      <th></th>\n",
       "      <th>Vol</th>\n",
       "      <th>ExpReturn</th>\n",
       "    </tr>\n",
       "  </thead>\n",
       "  <tbody>\n",
       "    <tr>\n",
       "      <th>0</th>\n",
       "      <td>0.011797</td>\n",
       "      <td>0.006663</td>\n",
       "    </tr>\n",
       "    <tr>\n",
       "      <th>1</th>\n",
       "      <td>0.011469</td>\n",
       "      <td>0.006863</td>\n",
       "    </tr>\n",
       "    <tr>\n",
       "      <th>2</th>\n",
       "      <td>0.011143</td>\n",
       "      <td>0.007062</td>\n",
       "    </tr>\n",
       "    <tr>\n",
       "      <th>3</th>\n",
       "      <td>0.010817</td>\n",
       "      <td>0.007262</td>\n",
       "    </tr>\n",
       "    <tr>\n",
       "      <th>4</th>\n",
       "      <td>0.010493</td>\n",
       "      <td>0.007462</td>\n",
       "    </tr>\n",
       "  </tbody>\n",
       "</table>\n",
       "</div>"
      ],
      "text/plain": [
       "        Vol  ExpReturn\n",
       "0  0.011797   0.006663\n",
       "1  0.011469   0.006863\n",
       "2  0.011143   0.007062\n",
       "3  0.010817   0.007262\n",
       "4  0.010493   0.007462"
      ]
     },
     "execution_count": 8,
     "metadata": {},
     "output_type": "execute_result"
    }
   ],
   "source": [
    "# Frontier by target return (analytic)\n",
    "S = Sigma.values\n",
    "mu_v = mu.values.reshape(-1,1)\n",
    "ones = np.ones_like(mu_v)\n",
    "# Pre-solve Sx = b instead of explicit inverse\n",
    "x1 = np.linalg.solve(S, ones)\n",
    "xmu = np.linalg.solve(S, mu_v)\n",
    "A = (ones.T @ x1).item()\n",
    "B = (ones.T @ xmu).item()\n",
    "C = (mu_v.T @ xmu).item()\n",
    "\n",
    "E_tan = C / B if B != 0 else float(mu.mean())\n",
    "targets = np.linspace(min(float(mu.min()), E_tan), max(float(mu.max()), E_tan), 60)\n",
    "pts = []\n",
    "W = []\n",
    "for r in targets:\n",
    "    coef = np.array([[A, B],[B, C]])\n",
    "    rhs = np.array([1.0, r])\n",
    "    a, b = np.linalg.solve(coef, rhs)\n",
    "    w = a * x1 + b * xmu\n",
    "    er = (mu_v.T @ w).item()\n",
    "    var = (w.T @ S @ w).item()\n",
    "    vol = np.sqrt(var)\n",
    "    pts.append((vol, er))\n",
    "    W.append(w.ravel())\n",
    "frontier = pd.DataFrame(pts, columns=[\"Vol\",\"ExpReturn\"])\n",
    "frontier.head()\n"
   ]
  },
  {
   "cell_type": "markdown",
   "id": "316985d0",
   "metadata": {},
   "source": [
    "## 9) Plots\n",
    "\n",
    "* Efficient frontier: volatility on x, expected return on y.  \n",
    "* Show baselines and the optimized picks.\n"
   ]
  },
  {
   "cell_type": "code",
   "execution_count": 12,
   "id": "aa2a90ea",
   "metadata": {},
   "outputs": [
    {
     "data": {
      "image/png": "[encoded data removed]",
      "text/plain": [
       "<Figure size 650x400 with 1 Axes>"
      ]
     },
     "metadata": {},
     "output_type": "display_data"
    }
   ],
   "source": [
    "plt.figure()\n",
    "plt.plot(frontier[\"Vol\"], frontier[\"ExpReturn\"], label=\"Efficient Frontier\")\n",
    "plt.scatter(baseline_df[\"Volatility\"], baseline_df[\"ExpReturn\"], marker=\"x\", label=\"Baselines\")\n",
    "plt.scatter([vol_star], [er_star], marker=\"o\", label=\"Optimized (unconstrained)\")\n",
    "\n",
    "if w_ns is not None:\n",
    "    plt.scatter([vol_ns], [er_ns], marker=\"s\", label=\"Optimized (no short)\")\n",
    "\n",
    "for i, row in baseline_df.iterrows():\n",
    "    plt.annotate(row[\"Portfolio\"], (row[\"Volatility\"], row[\"ExpReturn\"]), xytext=(4,4), textcoords=\"offset points\", fontsize=8)\n",
    "\n",
    "plt.xlabel(\"Volatility\")\n",
    "plt.ylabel(\"Expected Return\")\n",
    "plt.title(\"Mean–Variance Frontier and Portfolios\")\n",
    "plt.grid(True)\n",
    "plt.legend(loc=\"upper left\", bbox_to_anchor=(0.5, 0.9))\n",
    "plt.show()"
   ]
  },
  {
   "cell_type": "markdown",
   "id": "0c0c8fd9",
   "metadata": {},
   "source": [
    "## 10) Interpret the results\n",
    "\n",
    "* The **frontier** shows the best trade-offs you can get from these assets under the model.  \n",
    "* The **optimized** point balances reward and risk using your chosen $\\lambda$.  \n",
    "* The **no-short** constraint often shifts weights toward safer assets and raises volatility slightly for the same return.\n",
    "\n",
    "##  Limits of the mean–variance model\n",
    "\n",
    "* Uses **sample means and covariances** which can be noisy for small samples.  \n",
    "* Assumes **quadratic utility** or **normally distributed** returns.  \n",
    "* Sensitive to **outliers** and **look-ahead bias** if you are not careful.  \n",
    "* In practice, people regularize, shrink covariances, or add constraints.\n",
    "\n",
    "\n",
    "##  What we will quantize next time\n",
    "\n",
    "* We will map the **discrete** version of this problem to a **QUBO** (quadratic unconstrained binary optimization).  \n",
    "* Then we can run **QAOA** or related methods in Qiskit to compare with the classical baselines here.  \n",
    "* You now have a clear classical reference to benchmark against.\n"
   ]
  },
  {
   "cell_type": "markdown",
   "id": "ff59a71a",
   "metadata": {},
   "source": [
    "## (Appendix) Quick “what is what” glossary\n",
    "\n",
    "* **Return**: relative price change over a period.  \n",
    "* **Expected return**: average of returns across time.  \n",
    "* **Covariance**: how two assets move together.  \n",
    "* **Volatility**: square root of variance; a risk proxy in this model.  \n",
    "* **Risk-aversion \\(\\lambda\\)**: higher values penalize risk more.  \n",
    "* **Shorting**: allowing negative weights. No-short sets weights \\(\\ge 0\\).\n"
   ]
  }
 ],
 "metadata": {
  "kernelspec": {
   "display_name": "venv (3.13.5)",
   "language": "python",
   "name": "python3"
  },
  "language_info": {
   "codemirror_mode": {
    "name": "ipython",
    "version": 3
   },
   "file_extension": ".py",
   "mimetype": "text/x-python",
   "name": "python",
   "nbconvert_exporter": "python",
   "pygments_lexer": "ipython3",
   "version": "3.13.5"
  }
 },
 "nbformat": 4,
 "nbformat_minor": 5
}
