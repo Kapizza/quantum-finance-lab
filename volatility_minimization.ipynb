{
 "cells": [
  {
   "cell_type": "code",
   "execution_count": 3,
   "id": "d4b23be5",
   "metadata": {},
   "outputs": [
    {
     "name": "stdout",
     "output_type": "stream",
     "text": [
      "<function make_f.<locals>.f at 0x0000023C1DA36340>\n"
     ]
    }
   ],
   "source": [
    "import numpy as np\n",
    "\n",
    "def make_f(A, B, C, D):\n",
    "    # compute returns\n",
    "    R = np.column_stack([\n",
    "        np.diff(A) / A[:-1],\n",
    "        np.diff(B) / B[:-1],\n",
    "        np.diff(C) / C[:-1],\n",
    "        np.diff(D) / D[:-1]\n",
    "    ])\n",
    "    n = len(R)\n",
    "    \n",
    "    def f(wA, wB, wC):\n",
    "        wD = 1 - wA - wB - wC\n",
    "        w = np.array([wA, wB, wC, wD])\n",
    "        r_p = R @ w\n",
    "        mean_rp = np.mean(r_p)\n",
    "        return np.sum((r_p - mean_rp)**2)  # (n-1)*σ² = f\n",
    "    return f\n",
    "\n",
    "A = [100,102,101,103,105,104,106,108,109,111,112,113]\n",
    "B = [ 50, 49, 50, 52, 51, 53, 55, 56, 57, 58, 60, 61]\n",
    "C = [ 80, 81, 82, 82, 84, 85, 86, 87, 88, 89, 91, 92]\n",
    "D = [120,121,119,118,120,122,121,123,124,126,127,129]\n",
    "\n",
    "f = make_f(A, B, C, D)\n",
    "print(f)\n"
   ]
  },
  {
   "cell_type": "code",
   "execution_count": 24,
   "id": "cf235a8f",
   "metadata": {},
   "outputs": [
    {
     "data": {
      "text/latex": [
       "$\\displaystyle 0.00225 w_{A}^{2} + 0.00262 w_{A} w_{B} + 0.00178 w_{A} w_{C} - 0.00244 w_{A} + 0.00772 w_{B}^{2} + 0.003 w_{B} w_{C} - 0.00475 w_{B} + 0.00128 w_{C}^{2} - 0.00234 w_{C} + 0.00147$"
      ],
      "text/plain": [
       "<IPython.core.display.Math object>"
      ]
     },
     "metadata": {},
     "output_type": "display_data"
    }
   ],
   "source": [
    "import numpy as np\n",
    "import sympy as sp\n",
    "from IPython.display import Math, display\n",
    "import math\n",
    "\n",
    "def sigma_from_f(f, n):\n",
    "    return math.sqrt(f / (n - 1))\n",
    "\n",
    "def make_f_expr(A, B, C, D):\n",
    "    # compute returns\n",
    "    R = np.column_stack([\n",
    "        np.diff(A) / A[:-1],\n",
    "        np.diff(B) / B[:-1],\n",
    "        np.diff(C) / C[:-1],\n",
    "        np.diff(D) / D[:-1]\n",
    "    ])\n",
    "    n = len(R)\n",
    "\n",
    "    # define symbols\n",
    "    wA, wB, wC = sp.symbols('w_A w_B w_C')\n",
    "    wD = 1 - wA - wB - wC\n",
    "    w = [wA, wB, wC, wD]\n",
    "\n",
    "    # compute portfolio returns one by one\n",
    "    r_p = []\n",
    "    for i in range(n):\n",
    "        term = sum(R[i, j] * w[j] for j in range(4))\n",
    "        r_p.append(term)\n",
    "\n",
    "    # compute mean manually\n",
    "    mean_rp = sum(r_p) / n\n",
    "\n",
    "    # compute f = sum((r_p[i] - mean_rp)**2)\n",
    "    f_expr = sum((r_p[i] - mean_rp)**2 for i in range(n))\n",
    "\n",
    "    return sp.simplify(f_expr)\n",
    "\n",
    "# Example usage\n",
    "A = [100,102,101,103,105,104,106,108,109,111,112,113]\n",
    "B = [50,49,50,52,51,53,55,56,57,58,60,61]\n",
    "C = [80,81,82,82,84,85,86,87,88,89,91,92]\n",
    "D = [120,121,119,118,120,122,121,123,124,126,127,129]\n",
    "n = len(A) - 1\n",
    "\n",
    "f_expr = make_f_expr(A, B, C, D)\n",
    "\n",
    "# assuming f_expr already computed\n",
    "f_latex = sp.latex(sp.N(f_expr, 3))\n",
    "\n",
    "display(Math(f\"{f_latex}\"))"
   ]
  },
  {
   "cell_type": "code",
   "execution_count": null,
   "id": "02942f31",
   "metadata": {},
   "outputs": [
    {
     "name": "stdout",
     "output_type": "stream",
     "text": [
      "0.000399833086041604\n"
     ]
    }
   ],
   "source": [
    "val = f_expr.subs({'w_A': 0.2, 'w_B': 0.3, 'w_C': 0.1}).evalf()\n",
    "print(val)"
   ]
  },
  {
   "cell_type": "code",
   "execution_count": 19,
   "id": "2bd3cf38",
   "metadata": {},
   "outputs": [
    {
     "name": "stdout",
     "output_type": "stream",
     "text": [
      "{w_A: 0.221534753830334, w_B: 0.158254957754298, w_C: 0.576750752650851}\n"
     ]
    }
   ],
   "source": [
    "wA, wB, wC = sp.symbols('w_A w_B w_C')\n",
    "solutions = sp.solve([\n",
    "    sp.diff(f_expr, wA),\n",
    "    sp.diff(f_expr, wB),\n",
    "    sp.diff(f_expr, wC)\n",
    "], (wA, wB, wC))\n",
    "print(solutions)\n"
   ]
  },
  {
   "cell_type": "code",
   "execution_count": 21,
   "id": "8d984a9a",
   "metadata": {},
   "outputs": [
    {
     "data": {
      "text/latex": [
       "$\\displaystyle 0.000146215942403613$"
      ],
      "text/plain": [
       "0.000146215942403613"
      ]
     },
     "execution_count": 21,
     "metadata": {},
     "output_type": "execute_result"
    }
   ],
   "source": [
    "val = f_expr.subs({'w_A': 0.221534753830334, 'w_B': 0.158254957754298, 'w_C': 0.576750752650851}).evalf()\n",
    "val"
   ]
  },
  {
   "cell_type": "code",
   "execution_count": 25,
   "id": "39e2caef",
   "metadata": {},
   "outputs": [
    {
     "data": {
      "text/plain": [
       "0.0038238193263230016"
      ]
     },
     "execution_count": 25,
     "metadata": {},
     "output_type": "execute_result"
    }
   ],
   "source": [
    "sigma_from_f(val, n)"
   ]
  },
  {
   "cell_type": "code",
   "execution_count": 36,
   "id": "2ec8f964",
   "metadata": {},
   "outputs": [
    {
     "data": {
      "text/latex": [
       "$\\displaystyle - 0.003 w_{A}^{2} + 0.00262281268914675 w_{A} w_{B} + 0.00178321546154063 w_{A} w_{C} - 0.0024409014879152 w_{A} + 0.007715974228636 w_{B}^{2} + 0.00299822983139518 w_{B} w_{C} - 0.00475245782648269 w_{B} + 0.00127526367993523 w_{C}^{2} - 0.00234054750806584 w_{C} + 0.00146759447225388$"
      ],
      "text/plain": [
       "-0.003*w_A**2 + 0.00262281268914675*w_A*w_B + 0.00178321546154063*w_A*w_C - 0.0024409014879152*w_A + 0.007715974228636*w_B**2 + 0.00299822983139518*w_B*w_C - 0.00475245782648269*w_B + 0.00127526367993523*w_C**2 - 0.00234054750806584*w_C + 0.00146759447225388"
      ]
     },
     "execution_count": 36,
     "metadata": {},
     "output_type": "execute_result"
    }
   ],
   "source": [
    "coeff = f_expr.coeff(wA**2)\n",
    "f_expr = f_expr - coeff*wA**2 - 0.003*wA**2\n",
    "f_expr\n"
   ]
  },
  {
   "cell_type": "code",
   "execution_count": 41,
   "id": "e40bcac3",
   "metadata": {},
   "outputs": [
    {
     "name": "stdout",
     "output_type": "stream",
     "text": [
      "{w_A: -0.0984866669542998, w_B: 0.172407299680589, w_C: 0.783858968830379}\n"
     ]
    }
   ],
   "source": [
    "wA, wB, wC = sp.symbols('w_A w_B w_C')\n",
    "solutions = sp.solve([\n",
    "    sp.diff(f_expr, wA),\n",
    "    sp.diff(f_expr, wB),\n",
    "    sp.diff(f_expr, wC)\n",
    "], (wA, wB, wC))\n",
    "print(solutions)\n"
   ]
  },
  {
   "cell_type": "code",
   "execution_count": 43,
   "id": "9d311b05",
   "metadata": {},
   "outputs": [
    {
     "data": {
      "text/latex": [
       "$\\displaystyle -30.2426225543193$"
      ],
      "text/plain": [
       "-30.2426225543193"
      ]
     },
     "execution_count": 43,
     "metadata": {},
     "output_type": "execute_result"
    }
   ],
   "source": [
    "f_expr.subs({'w_A': 100, 'w_B': 0.0, 'w_C': 0.0}).evalf()"
   ]
  }
 ],
 "metadata": {
  "kernelspec": {
   "display_name": "Python 3",
   "language": "python",
   "name": "python3"
  },
  "language_info": {
   "codemirror_mode": {
    "name": "ipython",
    "version": 3
   },
   "file_extension": ".py",
   "mimetype": "text/x-python",
   "name": "python",
   "nbconvert_exporter": "python",
   "pygments_lexer": "ipython3",
   "version": "3.11.9"
  }
 },
 "nbformat": 4,
 "nbformat_minor": 5
}
